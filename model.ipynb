{
 "cells": [
  {
   "cell_type": "code",
   "execution_count": 3,
   "id": "a089aa09-bf8f-49c4-bc57-111548e1788e",
   "metadata": {},
   "outputs": [],
   "source": [
    "import numpy as np\n",
    "from tensorflow.keras.datasets import mnist     # only for data download; remove if you have data locally\n",
    "from time import time\n",
    "import pandas as pd\n",
    "\n",
    "import matplotlib.pyplot as plt"
   ]
  },
  {
   "cell_type": "code",
   "execution_count": 14,
   "id": "72f3174c-8d15-4500-9e03-a07ee76c8865",
   "metadata": {},
   "outputs": [
    {
     "name": "stdout",
     "output_type": "stream",
     "text": [
      "Epoch 0: Loss = 1.6195\n",
      "Epoch 10: Loss = 0.4707\n",
      "Epoch 20: Loss = 0.3755\n",
      "Epoch 30: Loss = 0.3355\n",
      "Epoch 40: Loss = 0.3108\n",
      "Epoch 50: Loss = 0.2925\n",
      "Epoch 60: Loss = 0.2776\n",
      "Epoch 70: Loss = 0.2649\n",
      "Epoch 80: Loss = 0.2537\n",
      "Epoch 90: Loss = 0.2435\n"
     ]
    },
    {
     "data": {
      "image/png": "[encoded data removed]",
      "text/plain": [
       "<Figure size 640x480 with 1 Axes>"
      ]
     },
     "metadata": {},
     "output_type": "display_data"
    },
    {
     "name": "stdout",
     "output_type": "stream",
     "text": [
      "Model Accuracy: 93.47%\n"
     ]
    }
   ],
   "source": [
    "(x_train, y_train), (x_test, y_test) = mnist.load_data()\n",
    "X = x_train.reshape(x_train.shape[0], -1) / 255.0   # (60000, 784)\n",
    "Y = y_train                                         # (60000,)\n",
    "m = X.shape[0]\n",
    "W1 = np.random.randn(784,64)* np.sqrt(2./784)  # input -> hidden\n",
    "W2 = np.random.randn(64,10)* np.sqrt(2./64)    # hidden -> output\n",
    "\n",
    "\n",
    "B1 = np.zeros((1,64))  # bias for hidden layer\n",
    "B2 = np.zeros((1,10))\n",
    "#one hot encoding \n",
    "E = np.zeros((m,10))\n",
    "E[np.arange(m), Y] = 1\n",
    "\n",
    "m = X.shape[0] \n",
    "\n",
    "def forwardpropagation(X, W1, W2, B1, B2):\n",
    "    Z1 = np.dot(X, W1) +B1\n",
    "    A1 = relu(Z1)\n",
    "    Z2 = np.dot(A1,W2) +B2\n",
    "    A2 = softmax(Z2)\n",
    "    return Z1, A1, Z2, A2\n",
    "\n",
    "\n",
    "def entropy_loss(A2, E):\n",
    "    return -np.mean(np.sum(E * np.log(np.clip(A2, 1e-9, 1.0)), axis=1))\n",
    "\n",
    "\n",
    "\n",
    "def relu(Z):\n",
    "    return np.maximum(0,Z)\n",
    "\n",
    "def relu_derivative(Z):\n",
    "    return (Z>0).astype(float)\n",
    "\n",
    "\n",
    "def softmax(Z):\n",
    "    expZ = np.exp(Z- np.max(Z, axis=1, keepdims=True))\n",
    "    return expZ/np.sum(expZ, axis=1, keepdims=True)\n",
    "\n",
    "def backpropagation(W1, W2, B1, B2, X, E, A1, A2, Z1, Z2, learning_rate=0.001):\n",
    "    batch_size = X.shape[0]  # Add this line\n",
    "    dZ2 = A2 - E\n",
    "    dW2 = np.dot(A1.T, dZ2) / batch_size \n",
    "    dB2 = np.sum(dZ2, axis=0, keepdims=True) / batch_size  \n",
    "    dA1 = np.dot(dZ2, W2.T)\n",
    "    dZ1 = dA1 * relu_derivative(Z1)\n",
    "    dB1 = np.sum(dZ1, axis=0, keepdims=True) / batch_size \n",
    "    dW1 = np.dot(X.T, dZ1) / batch_size  \n",
    "\n",
    "    # gradient descent\n",
    "    W1 -= learning_rate*dW1\n",
    "    W2 -= learning_rate*dW2\n",
    "    B1 -= learning_rate*dB1\n",
    "    B2 -= learning_rate*dB2\n",
    "    return W1, W2, B1, B2\n",
    "\n",
    "\n",
    "# Hyperparameters\n",
    "learning_rate = 0.001  \n",
    "epochs = 100\n",
    "batch_size = 64\n",
    "loss_history = []\n",
    "\n",
    "# Training Loop\n",
    "for epoch in range(epochs):\n",
    "    for i in range(0, m, batch_size):\n",
    "        X_batch = X[i:i+batch_size]\n",
    "        E_batch = E[i:i+batch_size]\n",
    "        \n",
    "        # Forward/Backprop\n",
    "        Z1, A1, Z2, A2 = forwardpropagation(X_batch, W1, W2, B1, B2)\n",
    "        W1, W2, B1, B2 = backpropagation(W1, W2, B1, B2, X_batch, E_batch, A1, A2, Z1, Z2, learning_rate)\n",
    "    \n",
    "    # Track loss \n",
    "    _, _, _, A2_full = forwardpropagation(X, W1, W2, B1, B2)\n",
    "    loss = entropy_loss(A2_full, E)\n",
    "    loss_history.append(loss)\n",
    "    if epoch % 10 == 0:\n",
    "        print(f\"Epoch {epoch}: Loss = {loss:.4f}\")\n",
    "\n",
    "# Plotting\n",
    "plt.plot(loss_history)\n",
    "plt.xlabel(\"Epochs\")\n",
    "plt.ylabel(\"Loss\")\n",
    "plt.title(\"Training Loss Over Time\")\n",
    "plt.show()\n",
    "\n",
    "# Accuracy Check\n",
    "_, _, _, final_prediction = forwardpropagation(X, W1, W2, B1, B2)\n",
    "predicted_label = np.argmax(final_prediction, axis=1)\n",
    "true_labels = Y\n",
    "accuracy = np.mean(predicted_label == true_labels) * 100\n",
    "print(f\"Model Accuracy: {accuracy:.2f}%\")\n",
    "\n",
    "\n"
   ]
  },
  {
   "cell_type": "code",
   "execution_count": 16,
   "id": "9c69b2de-feac-46bf-a7c7-7775f6c92cc6",
   "metadata": {},
   "outputs": [],
   "source": [
    "def make_predictions(X, W1, b1, W2, b2):\n",
    "    _, _, _, A2 = forwardpropagation(X, W1, W2, b1, b2)\n",
    "    predictions = np.argmax(A2, axis=1)\n",
    "    return predictions\n",
    "\n",
    "def test_prediction(index, W1, b1, W2, b2):\n",
    "    current_image = X[index].reshape((28, 28)) * 255\n",
    "    prediction = make_predictions(X[index].reshape(1, -1), W1, b1, W2, b2)\n",
    "    label = Y[index]\n",
    "\n",
    "    print(\"Prediction: \", prediction[0])\n",
    "    print(\"Label: \", label)\n",
    "\n",
    "    plt.gray()\n",
    "    plt.imshow(current_image, interpolation='nearest')\n",
    "    plt.show()"
   ]
  },
  {
   "cell_type": "code",
   "execution_count": 29,
   "id": "8da9eb12-3947-4965-9c82-7f999f2d975d",
   "metadata": {},
   "outputs": [
    {
     "name": "stdout",
     "output_type": "stream",
     "text": [
      "Prediction:  6\n",
      "Label:  6\n"
     ]
    },
    {
     "data": {
      "image/png": "[encoded data removed]",
      "text/plain": [
       "<Figure size 640x480 with 1 Axes>"
      ]
     },
     "metadata": {},
     "output_type": "display_data"
    }
   ],
   "source": [
    "test_prediction(17, W1, B1, W2, B2)"
   ]
  },
  {
   "cell_type": "code",
   "execution_count": 21,
   "id": "341036ad-bc2c-4163-a371-407204af5208",
   "metadata": {},
   "outputs": [],
   "source": [
    "import pickle\n",
    "\n",
    "# Save weights\n",
    "with open(\"scratch_model.pkl\", \"wb\") as f:\n",
    "    pickle.dump((W1, W2, B1, B2), f)\n",
    "\n",
    "# Load weights\n",
    "with open(\"scratch_model.pkl\", \"rb\") as f:\n",
    "    W1, W2, B1, B2 = pickle.load(f)"
   ]
  },
  {
   "cell_type": "code",
   "execution_count": null,
   "id": "25b8a695-6627-4098-b025-31778ce390b3",
   "metadata": {},
   "outputs": [],
   "source": [
    "me iska backend kaise banau\n"
   ]
  }
 ],
 "metadata": {
  "kernelspec": {
   "display_name": "Python (MyDefault)",
   "language": "python",
   "name": "mydefault"
  },
  "language_info": {
   "codemirror_mode": {
    "name": "ipython",
    "version": 3
   },
   "file_extension": ".py",
   "mimetype": "text/x-python",
   "name": "python",
   "nbconvert_exporter": "python",
   "pygments_lexer": "ipython3",
   "version": "3.10.13"
  }
 },
 "nbformat": 4,
 "nbformat_minor": 5
}
